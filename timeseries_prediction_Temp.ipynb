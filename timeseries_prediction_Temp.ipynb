{
 "cells": [
  {
   "cell_type": "markdown",
   "metadata": {},
   "source": [
    "\n",
    "# Predict rain based on other weather variables"
   ]
  },
  {
   "cell_type": "markdown",
   "metadata": {},
   "source": [
    "This notebook will use time lags to train a machine learning model for predicting temprature. \n",
    "\n",
    "First, we select a random station. The data is kept at daily resolution. Then, we generate a lagged feature matrix."
   ]
  },
  {
   "cell_type": "code",
   "execution_count": 1,
   "metadata": {},
   "outputs": [
    {
     "ename": "ModuleNotFoundError",
     "evalue": "No module named 'mpl_toolkits.basemap'",
     "output_type": "error",
     "traceback": [
      "\u001b[0;31m---------------------------------------------------------------------------\u001b[0m",
      "\u001b[0;31mModuleNotFoundError\u001b[0m                       Traceback (most recent call last)",
      "\u001b[0;32m<ipython-input-1-e03de45a71c2>\u001b[0m in \u001b[0;36m<module>\u001b[0;34m\u001b[0m\n\u001b[1;32m      9\u001b[0m \u001b[0;32mimport\u001b[0m \u001b[0mtime\u001b[0m\u001b[0;34m\u001b[0m\u001b[0;34m\u001b[0m\u001b[0m\n\u001b[1;32m     10\u001b[0m \u001b[0;32mimport\u001b[0m \u001b[0mglob\u001b[0m\u001b[0;34m\u001b[0m\u001b[0;34m\u001b[0m\u001b[0m\n\u001b[0;32m---> 11\u001b[0;31m \u001b[0;32mfrom\u001b[0m \u001b[0mmpl_toolkits\u001b[0m\u001b[0;34m.\u001b[0m\u001b[0mbasemap\u001b[0m \u001b[0;32mimport\u001b[0m \u001b[0mBasemap\u001b[0m\u001b[0;34m\u001b[0m\u001b[0;34m\u001b[0m\u001b[0m\n\u001b[0m",
      "\u001b[0;31mModuleNotFoundError\u001b[0m: No module named 'mpl_toolkits.basemap'"
     ]
    }
   ],
   "source": [
    "import pandas as pd\n",
    "import numpy as np\n",
    "from numpy.random import randint\n",
    "from sklearn.preprocessing import MinMaxScaler\n",
    "from sklearn.model_selection import train_test_split\n",
    "from sklearn.ensemble import RandomForestRegressor\n",
    "import matplotlib.pyplot as plt\n",
    "import matplotlib.dates as mdates\n",
    "import time\n",
    "import glob\n",
    "from mpl_toolkits.basemap import Basemap"
   ]
  },
  {
   "cell_type": "code",
   "execution_count": 2,
   "metadata": {},
   "outputs": [],
   "source": [
    "from pandas.plotting import register_matplotlib_converters\n",
    "register_matplotlib_converters()"
   ]
  },
  {
   "cell_type": "code",
   "execution_count": 3,
   "metadata": {},
   "outputs": [
    {
     "name": "stdout",
     "output_type": "stream",
     "text": [
      "26.046356439590454\n",
      "CPU times: user 13.7 s, sys: 12.4 s, total: 26.1 s\n",
      "Wall time: 26 s\n"
     ]
    }
   ],
   "source": [
    "%%time\n",
    "data_dir = '/datasets/NOAA_SST/'  # use '\\\\' on windows, e.g. 'C:\\\\user\\\\datasets\\\\NOOAA_SST'\n",
    "#load(data_dir + “noaa_gsod/…/file”\n",
    "t0 = time.time()\n",
    "data = pd.read_pickle(data_dir+'noaa_gsod/Combined_noaa_gsod') # load weather data\n",
    "stations = pd.read_pickle(data_dir+'noaa_gsod.stations') # load station data\n",
    "\n",
    "# # USE ONLY 2008-2018 # #\n",
    "data = data.loc[data.index >= pd.Timestamp(2008, 1, 1)]\n",
    "data = data.drop(columns=['yr','year','da','mo']) # don't need these anymore\n",
    "print(time.time()-t0)"
   ]
  },
  {
   "cell_type": "code",
   "execution_count": 4,
   "metadata": {},
   "outputs": [
    {
     "data": {
      "text/html": [
       "<div>\n",
       "<style scoped>\n",
       "    .dataframe tbody tr th:only-of-type {\n",
       "        vertical-align: middle;\n",
       "    }\n",
       "\n",
       "    .dataframe tbody tr th {\n",
       "        vertical-align: top;\n",
       "    }\n",
       "\n",
       "    .dataframe thead th {\n",
       "        text-align: right;\n",
       "    }\n",
       "</style>\n",
       "<table border=\"1\" class=\"dataframe\">\n",
       "  <thead>\n",
       "    <tr style=\"text-align: right;\">\n",
       "      <th></th>\n",
       "      <th>usaf</th>\n",
       "      <th>wban</th>\n",
       "      <th>name</th>\n",
       "      <th>country</th>\n",
       "      <th>state</th>\n",
       "      <th>call</th>\n",
       "      <th>lat</th>\n",
       "      <th>lon</th>\n",
       "      <th>elev</th>\n",
       "      <th>begin</th>\n",
       "      <th>end</th>\n",
       "    </tr>\n",
       "  </thead>\n",
       "  <tbody>\n",
       "    <tr>\n",
       "      <th>0</th>\n",
       "      <td>007018</td>\n",
       "      <td>99999</td>\n",
       "      <td>WXPOD 7018</td>\n",
       "      <td>None</td>\n",
       "      <td>None</td>\n",
       "      <td>None</td>\n",
       "      <td>0.00</td>\n",
       "      <td>0.000</td>\n",
       "      <td>+7018.0</td>\n",
       "      <td>20110309</td>\n",
       "      <td>20130730</td>\n",
       "    </tr>\n",
       "    <tr>\n",
       "      <th>1</th>\n",
       "      <td>007026</td>\n",
       "      <td>99999</td>\n",
       "      <td>WXPOD 7026</td>\n",
       "      <td>AF</td>\n",
       "      <td>None</td>\n",
       "      <td>None</td>\n",
       "      <td>0.00</td>\n",
       "      <td>0.000</td>\n",
       "      <td>+7026.0</td>\n",
       "      <td>20120713</td>\n",
       "      <td>20170822</td>\n",
       "    </tr>\n",
       "    <tr>\n",
       "      <th>2</th>\n",
       "      <td>007070</td>\n",
       "      <td>99999</td>\n",
       "      <td>WXPOD 7070</td>\n",
       "      <td>AF</td>\n",
       "      <td>None</td>\n",
       "      <td>None</td>\n",
       "      <td>0.00</td>\n",
       "      <td>0.000</td>\n",
       "      <td>+7070.0</td>\n",
       "      <td>20140923</td>\n",
       "      <td>20150926</td>\n",
       "    </tr>\n",
       "    <tr>\n",
       "      <th>3</th>\n",
       "      <td>008268</td>\n",
       "      <td>99999</td>\n",
       "      <td>WXPOD8278</td>\n",
       "      <td>AF</td>\n",
       "      <td>None</td>\n",
       "      <td>None</td>\n",
       "      <td>32.95</td>\n",
       "      <td>65.567</td>\n",
       "      <td>+1156.7</td>\n",
       "      <td>20100519</td>\n",
       "      <td>20120323</td>\n",
       "    </tr>\n",
       "    <tr>\n",
       "      <th>4</th>\n",
       "      <td>008307</td>\n",
       "      <td>99999</td>\n",
       "      <td>WXPOD 8318</td>\n",
       "      <td>AF</td>\n",
       "      <td>None</td>\n",
       "      <td>None</td>\n",
       "      <td>0.00</td>\n",
       "      <td>0.000</td>\n",
       "      <td>+8318.0</td>\n",
       "      <td>20100421</td>\n",
       "      <td>20100421</td>\n",
       "    </tr>\n",
       "  </tbody>\n",
       "</table>\n",
       "</div>"
      ],
      "text/plain": [
       "     usaf   wban                           name country state  call    lat  \\\n",
       "0  007018  99999  WXPOD 7018                       None  None  None   0.00   \n",
       "1  007026  99999  WXPOD 7026                         AF  None  None   0.00   \n",
       "2  007070  99999  WXPOD 7070                         AF  None  None   0.00   \n",
       "3  008268  99999  WXPOD8278                          AF  None  None  32.95   \n",
       "4  008307  99999  WXPOD 8318                         AF  None  None   0.00   \n",
       "\n",
       "      lon     elev     begin       end  \n",
       "0   0.000  +7018.0  20110309  20130730  \n",
       "1   0.000  +7026.0  20120713  20170822  \n",
       "2   0.000  +7070.0  20140923  20150926  \n",
       "3  65.567  +1156.7  20100519  20120323  \n",
       "4   0.000  +8318.0  20100421  20100421  "
      ]
     },
     "execution_count": 4,
     "metadata": {},
     "output_type": "execute_result"
    }
   ],
   "source": [
    "stations.head()"
   ]
  },
  {
   "cell_type": "code",
   "execution_count": 5,
   "metadata": {},
   "outputs": [
    {
     "data": {
      "text/html": [
       "<div>\n",
       "<style scoped>\n",
       "    .dataframe tbody tr th:only-of-type {\n",
       "        vertical-align: middle;\n",
       "    }\n",
       "\n",
       "    .dataframe tbody tr th {\n",
       "        vertical-align: top;\n",
       "    }\n",
       "\n",
       "    .dataframe thead th {\n",
       "        text-align: right;\n",
       "    }\n",
       "</style>\n",
       "<table border=\"1\" class=\"dataframe\">\n",
       "  <thead>\n",
       "    <tr style=\"text-align: right;\">\n",
       "      <th></th>\n",
       "      <th>stn</th>\n",
       "      <th>temp</th>\n",
       "      <th>slp</th>\n",
       "      <th>wdsp</th>\n",
       "      <th>mxpsd</th>\n",
       "      <th>max</th>\n",
       "      <th>min</th>\n",
       "      <th>prcp</th>\n",
       "    </tr>\n",
       "    <tr>\n",
       "      <th>Datetime</th>\n",
       "      <th></th>\n",
       "      <th></th>\n",
       "      <th></th>\n",
       "      <th></th>\n",
       "      <th></th>\n",
       "      <th></th>\n",
       "      <th></th>\n",
       "      <th></th>\n",
       "    </tr>\n",
       "  </thead>\n",
       "  <tbody>\n",
       "    <tr>\n",
       "      <th>2008-08-22</th>\n",
       "      <td>619970</td>\n",
       "      <td>41.7</td>\n",
       "      <td>1032.1</td>\n",
       "      <td>7.2</td>\n",
       "      <td>14.0</td>\n",
       "      <td>46.6</td>\n",
       "      <td>37.8</td>\n",
       "      <td>0.00</td>\n",
       "    </tr>\n",
       "    <tr>\n",
       "      <th>2008-09-28</th>\n",
       "      <td>714170</td>\n",
       "      <td>54.9</td>\n",
       "      <td>1023.8</td>\n",
       "      <td>9.1</td>\n",
       "      <td>15.0</td>\n",
       "      <td>70.3</td>\n",
       "      <td>51.4</td>\n",
       "      <td>0.06</td>\n",
       "    </tr>\n",
       "    <tr>\n",
       "      <th>2008-02-14</th>\n",
       "      <td>041560</td>\n",
       "      <td>35.6</td>\n",
       "      <td>1032.8</td>\n",
       "      <td>28.5</td>\n",
       "      <td>38.9</td>\n",
       "      <td>36.5</td>\n",
       "      <td>34.5</td>\n",
       "      <td>0.00</td>\n",
       "    </tr>\n",
       "    <tr>\n",
       "      <th>2008-02-25</th>\n",
       "      <td>041560</td>\n",
       "      <td>4.5</td>\n",
       "      <td>997.1</td>\n",
       "      <td>4.3</td>\n",
       "      <td>7.0</td>\n",
       "      <td>10.4</td>\n",
       "      <td>-1.1</td>\n",
       "      <td>0.00</td>\n",
       "    </tr>\n",
       "    <tr>\n",
       "      <th>2008-10-06</th>\n",
       "      <td>041650</td>\n",
       "      <td>43.3</td>\n",
       "      <td>998.8</td>\n",
       "      <td>24.3</td>\n",
       "      <td>30.9</td>\n",
       "      <td>44.6</td>\n",
       "      <td>40.3</td>\n",
       "      <td>0.00</td>\n",
       "    </tr>\n",
       "  </tbody>\n",
       "</table>\n",
       "</div>"
      ],
      "text/plain": [
       "               stn  temp     slp  wdsp  mxpsd   max   min  prcp\n",
       "Datetime                                                       \n",
       "2008-08-22  619970  41.7  1032.1   7.2   14.0  46.6  37.8  0.00\n",
       "2008-09-28  714170  54.9  1023.8   9.1   15.0  70.3  51.4  0.06\n",
       "2008-02-14  041560  35.6  1032.8  28.5   38.9  36.5  34.5  0.00\n",
       "2008-02-25  041560   4.5   997.1   4.3    7.0  10.4  -1.1  0.00\n",
       "2008-10-06  041650  43.3   998.8  24.3   30.9  44.6  40.3  0.00"
      ]
     },
     "execution_count": 5,
     "metadata": {},
     "output_type": "execute_result"
    }
   ],
   "source": [
    "data.head()"
   ]
  },
  {
   "cell_type": "code",
   "execution_count": 6,
   "metadata": {},
   "outputs": [
    {
     "data": {
      "text/html": [
       "<div>\n",
       "<style scoped>\n",
       "    .dataframe tbody tr th:only-of-type {\n",
       "        vertical-align: middle;\n",
       "    }\n",
       "\n",
       "    .dataframe tbody tr th {\n",
       "        vertical-align: top;\n",
       "    }\n",
       "\n",
       "    .dataframe thead th {\n",
       "        text-align: right;\n",
       "    }\n",
       "</style>\n",
       "<table border=\"1\" class=\"dataframe\">\n",
       "  <thead>\n",
       "    <tr style=\"text-align: right;\">\n",
       "      <th></th>\n",
       "      <th>usaf</th>\n",
       "      <th>wban</th>\n",
       "      <th>name</th>\n",
       "      <th>country</th>\n",
       "      <th>state</th>\n",
       "      <th>call</th>\n",
       "      <th>lat</th>\n",
       "      <th>lon</th>\n",
       "      <th>elev</th>\n",
       "      <th>begin</th>\n",
       "      <th>end</th>\n",
       "    </tr>\n",
       "  </thead>\n",
       "  <tbody>\n",
       "    <tr>\n",
       "      <th>24140</th>\n",
       "      <td>711320</td>\n",
       "      <td>99999</td>\n",
       "      <td>STONY RAPIDS ARPT</td>\n",
       "      <td>CA</td>\n",
       "      <td>None</td>\n",
       "      <td>CYSF</td>\n",
       "      <td>59.25</td>\n",
       "      <td>-105.833</td>\n",
       "      <td>+0250.0</td>\n",
       "      <td>19860725</td>\n",
       "      <td>20190401</td>\n",
       "    </tr>\n",
       "  </tbody>\n",
       "</table>\n",
       "</div>"
      ],
      "text/plain": [
       "         usaf   wban               name country state  call    lat      lon  \\\n",
       "24140  711320  99999  STONY RAPIDS ARPT      CA  None  CYSF  59.25 -105.833   \n",
       "\n",
       "          elev     begin       end  \n",
       "24140  +0250.0  19860725  20190401  "
      ]
     },
     "execution_count": 6,
     "metadata": {},
     "output_type": "execute_result"
    }
   ],
   "source": [
    "# # SELECT RANDOM STATION # #\n",
    "np.random.seed(30)\n",
    "rs = np.unique(data['stn'].values) # find unique stations with data\n",
    "rand_stat = rs[randint(len(rs))] # pick a random station\n",
    "\n",
    "# # ideally we should check < len(np.unique(data.index)), but many are shorter\n",
    "while (len(data.loc[data['stn'] == rand_stat]) < 3650): # If not enough data\n",
    "    if len(stations.loc[stations['usaf'] == rand_stat]): # If station info available\n",
    "        if (stations.loc[stations['usaf'] == rand_stat].iloc[0]['wban'] != '99999'): # If station number not unique\n",
    "            rand_stat = rs[randint(len(rs))] # get a new station\n",
    "    else:\n",
    "        rand_stat = rs[randint(len(rs))] # get a new station\n",
    "\n",
    "select_station = stations.loc[stations['usaf'] == rand_stat] # get location, etc, for random station\n",
    "\n",
    "features = data.loc[data['stn'] == rand_stat] # pick weather at random station\n",
    "features = features.drop(columns='stn')\n",
    "features = features.drop(columns='max')\n",
    "features = features.drop(columns='min')\n",
    "features = features.sort_index()\n",
    "select_station.head() # see where it is"
   ]
  },
  {
   "cell_type": "code",
   "execution_count": 7,
   "metadata": {},
   "outputs": [
    {
     "data": {
      "text/html": [
       "<div>\n",
       "<style scoped>\n",
       "    .dataframe tbody tr th:only-of-type {\n",
       "        vertical-align: middle;\n",
       "    }\n",
       "\n",
       "    .dataframe tbody tr th {\n",
       "        vertical-align: top;\n",
       "    }\n",
       "\n",
       "    .dataframe thead th {\n",
       "        text-align: right;\n",
       "    }\n",
       "</style>\n",
       "<table border=\"1\" class=\"dataframe\">\n",
       "  <thead>\n",
       "    <tr style=\"text-align: right;\">\n",
       "      <th></th>\n",
       "      <th>temp</th>\n",
       "      <th>slp</th>\n",
       "      <th>wdsp</th>\n",
       "      <th>mxpsd</th>\n",
       "      <th>prcp</th>\n",
       "    </tr>\n",
       "    <tr>\n",
       "      <th>Datetime</th>\n",
       "      <th></th>\n",
       "      <th></th>\n",
       "      <th></th>\n",
       "      <th></th>\n",
       "      <th></th>\n",
       "    </tr>\n",
       "  </thead>\n",
       "  <tbody>\n",
       "    <tr>\n",
       "      <th>2008-01-01</th>\n",
       "      <td>-8.3</td>\n",
       "      <td>1035.4</td>\n",
       "      <td>1.4</td>\n",
       "      <td>5.1</td>\n",
       "      <td>0.01</td>\n",
       "    </tr>\n",
       "    <tr>\n",
       "      <th>2008-01-02</th>\n",
       "      <td>-6.9</td>\n",
       "      <td>1022.2</td>\n",
       "      <td>4.2</td>\n",
       "      <td>9.9</td>\n",
       "      <td>0.00</td>\n",
       "    </tr>\n",
       "    <tr>\n",
       "      <th>2008-01-03</th>\n",
       "      <td>9.2</td>\n",
       "      <td>996.6</td>\n",
       "      <td>2.0</td>\n",
       "      <td>9.9</td>\n",
       "      <td>0.04</td>\n",
       "    </tr>\n",
       "    <tr>\n",
       "      <th>2008-01-04</th>\n",
       "      <td>7.9</td>\n",
       "      <td>998.0</td>\n",
       "      <td>3.4</td>\n",
       "      <td>9.9</td>\n",
       "      <td>0.00</td>\n",
       "    </tr>\n",
       "    <tr>\n",
       "      <th>2008-01-05</th>\n",
       "      <td>6.8</td>\n",
       "      <td>995.4</td>\n",
       "      <td>9.7</td>\n",
       "      <td>12.0</td>\n",
       "      <td>0.13</td>\n",
       "    </tr>\n",
       "  </tbody>\n",
       "</table>\n",
       "</div>"
      ],
      "text/plain": [
       "            temp     slp  wdsp  mxpsd  prcp\n",
       "Datetime                                   \n",
       "2008-01-01  -8.3  1035.4   1.4    5.1  0.01\n",
       "2008-01-02  -6.9  1022.2   4.2    9.9  0.00\n",
       "2008-01-03   9.2   996.6   2.0    9.9  0.04\n",
       "2008-01-04   7.9   998.0   3.4    9.9  0.00\n",
       "2008-01-05   6.8   995.4   9.7   12.0  0.13"
      ]
     },
     "execution_count": 7,
     "metadata": {},
     "output_type": "execute_result"
    }
   ],
   "source": [
    "features.head()"
   ]
  },
  {
   "cell_type": "markdown",
   "metadata": {},
   "source": [
    "### Time-shift the data"
   ]
  },
  {
   "cell_type": "code",
   "execution_count": 8,
   "metadata": {},
   "outputs": [
    {
     "name": "stdout",
     "output_type": "stream",
     "text": [
      "3991 samples, 20 features.\n"
     ]
    },
    {
     "data": {
      "text/html": [
       "<div>\n",
       "<style scoped>\n",
       "    .dataframe tbody tr th:only-of-type {\n",
       "        vertical-align: middle;\n",
       "    }\n",
       "\n",
       "    .dataframe tbody tr th {\n",
       "        vertical-align: top;\n",
       "    }\n",
       "\n",
       "    .dataframe thead th {\n",
       "        text-align: right;\n",
       "    }\n",
       "</style>\n",
       "<table border=\"1\" class=\"dataframe\">\n",
       "  <thead>\n",
       "    <tr style=\"text-align: right;\">\n",
       "      <th></th>\n",
       "      <th>temp</th>\n",
       "      <th>slp</th>\n",
       "      <th>wdsp</th>\n",
       "      <th>mxpsd</th>\n",
       "      <th>prcp</th>\n",
       "      <th>temp_lag1</th>\n",
       "      <th>temp_lag2</th>\n",
       "      <th>temp_lag3</th>\n",
       "      <th>slp_lag1</th>\n",
       "      <th>slp_lag2</th>\n",
       "      <th>slp_lag3</th>\n",
       "      <th>wdsp_lag1</th>\n",
       "      <th>wdsp_lag2</th>\n",
       "      <th>wdsp_lag3</th>\n",
       "      <th>mxpsd_lag1</th>\n",
       "      <th>mxpsd_lag2</th>\n",
       "      <th>mxpsd_lag3</th>\n",
       "      <th>prcp_lag1</th>\n",
       "      <th>prcp_lag2</th>\n",
       "      <th>prcp_lag3</th>\n",
       "    </tr>\n",
       "    <tr>\n",
       "      <th>Datetime</th>\n",
       "      <th></th>\n",
       "      <th></th>\n",
       "      <th></th>\n",
       "      <th></th>\n",
       "      <th></th>\n",
       "      <th></th>\n",
       "      <th></th>\n",
       "      <th></th>\n",
       "      <th></th>\n",
       "      <th></th>\n",
       "      <th></th>\n",
       "      <th></th>\n",
       "      <th></th>\n",
       "      <th></th>\n",
       "      <th></th>\n",
       "      <th></th>\n",
       "      <th></th>\n",
       "      <th></th>\n",
       "      <th></th>\n",
       "      <th></th>\n",
       "    </tr>\n",
       "  </thead>\n",
       "  <tbody>\n",
       "    <tr>\n",
       "      <th>2008-01-04</th>\n",
       "      <td>7.9</td>\n",
       "      <td>998.0</td>\n",
       "      <td>3.4</td>\n",
       "      <td>9.9</td>\n",
       "      <td>0.00</td>\n",
       "      <td>9.2</td>\n",
       "      <td>-6.9</td>\n",
       "      <td>-8.3</td>\n",
       "      <td>996.6</td>\n",
       "      <td>1022.2</td>\n",
       "      <td>1035.4</td>\n",
       "      <td>2.0</td>\n",
       "      <td>4.2</td>\n",
       "      <td>1.4</td>\n",
       "      <td>9.9</td>\n",
       "      <td>9.9</td>\n",
       "      <td>5.1</td>\n",
       "      <td>0.04</td>\n",
       "      <td>0.00</td>\n",
       "      <td>0.01</td>\n",
       "    </tr>\n",
       "    <tr>\n",
       "      <th>2008-01-05</th>\n",
       "      <td>6.8</td>\n",
       "      <td>995.4</td>\n",
       "      <td>9.7</td>\n",
       "      <td>12.0</td>\n",
       "      <td>0.13</td>\n",
       "      <td>7.9</td>\n",
       "      <td>9.2</td>\n",
       "      <td>-6.9</td>\n",
       "      <td>998.0</td>\n",
       "      <td>996.6</td>\n",
       "      <td>1022.2</td>\n",
       "      <td>3.4</td>\n",
       "      <td>2.0</td>\n",
       "      <td>4.2</td>\n",
       "      <td>9.9</td>\n",
       "      <td>9.9</td>\n",
       "      <td>9.9</td>\n",
       "      <td>0.00</td>\n",
       "      <td>0.04</td>\n",
       "      <td>0.00</td>\n",
       "    </tr>\n",
       "    <tr>\n",
       "      <th>2008-01-06</th>\n",
       "      <td>4.0</td>\n",
       "      <td>993.5</td>\n",
       "      <td>8.5</td>\n",
       "      <td>13.0</td>\n",
       "      <td>0.09</td>\n",
       "      <td>6.8</td>\n",
       "      <td>7.9</td>\n",
       "      <td>9.2</td>\n",
       "      <td>995.4</td>\n",
       "      <td>998.0</td>\n",
       "      <td>996.6</td>\n",
       "      <td>9.7</td>\n",
       "      <td>3.4</td>\n",
       "      <td>2.0</td>\n",
       "      <td>12.0</td>\n",
       "      <td>9.9</td>\n",
       "      <td>9.9</td>\n",
       "      <td>0.13</td>\n",
       "      <td>0.00</td>\n",
       "      <td>0.04</td>\n",
       "    </tr>\n",
       "    <tr>\n",
       "      <th>2008-01-07</th>\n",
       "      <td>4.7</td>\n",
       "      <td>1001.9</td>\n",
       "      <td>0.6</td>\n",
       "      <td>2.9</td>\n",
       "      <td>0.05</td>\n",
       "      <td>4.0</td>\n",
       "      <td>6.8</td>\n",
       "      <td>7.9</td>\n",
       "      <td>993.5</td>\n",
       "      <td>995.4</td>\n",
       "      <td>998.0</td>\n",
       "      <td>8.5</td>\n",
       "      <td>9.7</td>\n",
       "      <td>3.4</td>\n",
       "      <td>13.0</td>\n",
       "      <td>12.0</td>\n",
       "      <td>9.9</td>\n",
       "      <td>0.09</td>\n",
       "      <td>0.13</td>\n",
       "      <td>0.00</td>\n",
       "    </tr>\n",
       "    <tr>\n",
       "      <th>2008-01-08</th>\n",
       "      <td>-4.2</td>\n",
       "      <td>1011.6</td>\n",
       "      <td>0.3</td>\n",
       "      <td>2.9</td>\n",
       "      <td>0.06</td>\n",
       "      <td>4.7</td>\n",
       "      <td>4.0</td>\n",
       "      <td>6.8</td>\n",
       "      <td>1001.9</td>\n",
       "      <td>993.5</td>\n",
       "      <td>995.4</td>\n",
       "      <td>0.6</td>\n",
       "      <td>8.5</td>\n",
       "      <td>9.7</td>\n",
       "      <td>2.9</td>\n",
       "      <td>13.0</td>\n",
       "      <td>12.0</td>\n",
       "      <td>0.05</td>\n",
       "      <td>0.09</td>\n",
       "      <td>0.13</td>\n",
       "    </tr>\n",
       "  </tbody>\n",
       "</table>\n",
       "</div>"
      ],
      "text/plain": [
       "            temp     slp  wdsp  mxpsd  prcp  temp_lag1  temp_lag2  temp_lag3  \\\n",
       "Datetime                                                                       \n",
       "2008-01-04   7.9   998.0   3.4    9.9  0.00        9.2       -6.9       -8.3   \n",
       "2008-01-05   6.8   995.4   9.7   12.0  0.13        7.9        9.2       -6.9   \n",
       "2008-01-06   4.0   993.5   8.5   13.0  0.09        6.8        7.9        9.2   \n",
       "2008-01-07   4.7  1001.9   0.6    2.9  0.05        4.0        6.8        7.9   \n",
       "2008-01-08  -4.2  1011.6   0.3    2.9  0.06        4.7        4.0        6.8   \n",
       "\n",
       "            slp_lag1  slp_lag2  slp_lag3  wdsp_lag1  wdsp_lag2  wdsp_lag3  \\\n",
       "Datetime                                                                    \n",
       "2008-01-04     996.6    1022.2    1035.4        2.0        4.2        1.4   \n",
       "2008-01-05     998.0     996.6    1022.2        3.4        2.0        4.2   \n",
       "2008-01-06     995.4     998.0     996.6        9.7        3.4        2.0   \n",
       "2008-01-07     993.5     995.4     998.0        8.5        9.7        3.4   \n",
       "2008-01-08    1001.9     993.5     995.4        0.6        8.5        9.7   \n",
       "\n",
       "            mxpsd_lag1  mxpsd_lag2  mxpsd_lag3  prcp_lag1  prcp_lag2  \\\n",
       "Datetime                                                               \n",
       "2008-01-04         9.9         9.9         5.1       0.04       0.00   \n",
       "2008-01-05         9.9         9.9         9.9       0.00       0.04   \n",
       "2008-01-06        12.0         9.9         9.9       0.13       0.00   \n",
       "2008-01-07        13.0        12.0         9.9       0.09       0.13   \n",
       "2008-01-08         2.9        13.0        12.0       0.05       0.09   \n",
       "\n",
       "            prcp_lag3  \n",
       "Datetime               \n",
       "2008-01-04       0.01  \n",
       "2008-01-05       0.00  \n",
       "2008-01-06       0.04  \n",
       "2008-01-07       0.00  \n",
       "2008-01-08       0.13  "
      ]
     },
     "execution_count": 8,
     "metadata": {},
     "output_type": "execute_result"
    }
   ],
   "source": [
    "columns = features.columns \n",
    "for co in columns:\n",
    "    # one day lag\n",
    "    features[co + '_lag1'] = features[co].shift(periods=1)\n",
    "    \n",
    "    # two days lag\n",
    "    features[co + '_lag2'] = features[co].shift(periods=2)\n",
    "    \n",
    "    # three days lag\n",
    "    features[co + '_lag3'] = features[co].shift(periods=3)\n",
    "features = features.iloc[3:]\n",
    "print(str(len(features)) + ' samples, ' + str(len(features.columns)) + ' features.')\n",
    "features.head()"
   ]
  },
  {
   "cell_type": "code",
   "execution_count": 9,
   "metadata": {},
   "outputs": [
    {
     "data": {
      "text/plain": [
       "count    3991.000000\n",
       "mean        0.030574\n",
       "std         0.105823\n",
       "min         0.000000\n",
       "25%         0.000000\n",
       "50%         0.000000\n",
       "75%         0.010000\n",
       "max         1.890000\n",
       "Name: prcp, dtype: float64"
      ]
     },
     "execution_count": 9,
     "metadata": {},
     "output_type": "execute_result"
    }
   ],
   "source": [
    "features[\"prcp\"].describe()"
   ]
  },
  {
   "cell_type": "code",
   "execution_count": 12,
   "metadata": {},
   "outputs": [],
   "source": [
    "import seaborn as sns"
   ]
  },
  {
   "cell_type": "code",
   "execution_count": 26,
   "metadata": {},
   "outputs": [
    {
     "data": {
      "text/plain": [
       "<matplotlib.axes._subplots.AxesSubplot at 0x7fbdfe53dcf8>"
      ]
     },
     "execution_count": 26,
     "metadata": {},
     "output_type": "execute_result"
    },
    {
     "data": {
      "image/png": "[encoded data removed]",
      "text/plain": [
       "<Figure size 432x288 with 1 Axes>"
      ]
     },
     "metadata": {
      "needs_background": "light"
     },
     "output_type": "display_data"
    }
   ],
   "source": [
    "sns.kdeplot(np.log(features['prcp']))"
   ]
  },
  {
   "cell_type": "code",
   "execution_count": 10,
   "metadata": {},
   "outputs": [
    {
     "ename": "NameError",
     "evalue": "name 'Basemap' is not defined",
     "output_type": "error",
     "traceback": [
      "\u001b[0;31m---------------------------------------------------------------------------\u001b[0m",
      "\u001b[0;31mNameError\u001b[0m                                 Traceback (most recent call last)",
      "\u001b[0;32m<ipython-input-10-8eae1d34febc>\u001b[0m in \u001b[0;36m<module>\u001b[0;34m\u001b[0m\n\u001b[1;32m      2\u001b[0m \u001b[0;34m\u001b[0m\u001b[0m\n\u001b[1;32m      3\u001b[0m \u001b[0mfig\u001b[0m \u001b[0;34m=\u001b[0m \u001b[0mplt\u001b[0m\u001b[0;34m.\u001b[0m\u001b[0mfigure\u001b[0m\u001b[0;34m(\u001b[0m\u001b[0mfigsize\u001b[0m\u001b[0;34m=\u001b[0m\u001b[0;34m(\u001b[0m\u001b[0;36m18.5\u001b[0m\u001b[0;34m,\u001b[0m \u001b[0;36m10.5\u001b[0m\u001b[0;34m)\u001b[0m\u001b[0;34m)\u001b[0m\u001b[0;34m\u001b[0m\u001b[0;34m\u001b[0m\u001b[0m\n\u001b[0;32m----> 4\u001b[0;31m m = Basemap(projection='cyl',llcrnrlat=-90,urcrnrlat=90,\\\n\u001b[0m\u001b[1;32m      5\u001b[0m             llcrnrlon=-180,urcrnrlon=180, resolution='l')\n\u001b[1;32m      6\u001b[0m \u001b[0mm\u001b[0m\u001b[0;34m.\u001b[0m\u001b[0mdrawmapboundary\u001b[0m\u001b[0;34m(\u001b[0m\u001b[0mfill_color\u001b[0m\u001b[0;34m=\u001b[0m\u001b[0;34m'xkcd:lightblue'\u001b[0m\u001b[0;34m)\u001b[0m\u001b[0;34m\u001b[0m\u001b[0;34m\u001b[0m\u001b[0m\n",
      "\u001b[0;31mNameError\u001b[0m: name 'Basemap' is not defined"
     ]
    },
    {
     "data": {
      "text/plain": [
       "<Figure size 1332x756 with 0 Axes>"
      ]
     },
     "metadata": {},
     "output_type": "display_data"
    }
   ],
   "source": [
    "# Show the position of the station\n",
    "\n",
    "fig = plt.figure(figsize=(18.5, 10.5))\n",
    "m = Basemap(projection='cyl',llcrnrlat=-90,urcrnrlat=90,\\\n",
    "            llcrnrlon=-180,urcrnrlon=180, resolution='l')\n",
    "m.drawmapboundary(fill_color='xkcd:lightblue')\n",
    "m.fillcontinents(color='xkcd:green',lake_color='xkcd:lightblue')\n",
    "m.drawmeridians(np.arange(-180.,180.,30.),labels=[True,False,False,True])\n",
    "m.drawparallels(np.arange(-90.,90,30.),labels=[False,True,True,False])\n",
    "lon = select_station['lon'].tolist()\n",
    "lat = select_station['lat'].tolist()\n",
    "m.plot(lon, lat,'r+') \n",
    "plt.show()"
   ]
  },
  {
   "cell_type": "markdown",
   "metadata": {},
   "source": [
    "### Create train/val/test"
   ]
  },
  {
   "cell_type": "code",
   "execution_count": 11,
   "metadata": {},
   "outputs": [],
   "source": [
    "ylabel = features['temp'] # use today's temperature as the label\n",
    "features = features.drop(columns='temp') # don't put it in training data!!\n",
    "\n",
    "# Use 20% test split (80% training + validation)\n",
    "ntrain = int(len(features)*0.8)\n",
    "x_test = features.iloc[ntrain:,:]\n",
    "y_test = ylabel[ntrain:]\n",
    "indices = np.arange(ntrain)\n",
    "\n",
    "# Split remaining 80% into training-validation sets (of original data)\n",
    "x_train, x_val, y_train, y_val, train_ind, val_ind = train_test_split(features.iloc[0:ntrain,:], ylabel[0:ntrain], indices, test_size=0.2, random_state=1)\n",
    "\n",
    "# Scale features. Fit scaler on training only.\n",
    "scaler = MinMaxScaler() #scale features between 0 and 1\n",
    "x_train = scaler.fit_transform(x_train)\n",
    "x_val = scaler.transform(x_val)\n",
    "x_test = scaler.transform(x_test)"
   ]
  },
  {
   "cell_type": "code",
   "execution_count": 16,
   "metadata": {},
   "outputs": [
    {
     "data": {
      "text/plain": [
       "array([0, 1, 2, 3, 4, 5, 6, 7, 8, 9])"
      ]
     },
     "execution_count": 16,
     "metadata": {},
     "output_type": "execute_result"
    }
   ],
   "source": [
    "train_ind[:10]\n"
   ]
  },
  {
   "cell_type": "markdown",
   "metadata": {},
   "source": [
    "#### Hyperparameter Tuning using Randomized Search to select good hyperparameter values for Randomized "
   ]
  },
  {
   "cell_type": "code",
   "execution_count": null,
   "metadata": {},
   "outputs": [],
   "source": [
    "ylabel = features['temp'] # use today's temperature as the label\n",
    "features = features.drop(columns='temp') # don't put it in training data!!\n",
    "\n",
    "# Use 20% test split (80% training + validation)\n",
    "ntrain = int(len(features)*0.8)\n",
    "x_test = features.iloc[ntrain:,:]\n",
    "y_test = ylabel[ntrain:]\n",
    "indices = np.arange(ntrain)\n",
    "\n",
    "x_train, y_train = features.iloc[0:ntrain, :], y_label[0:ntrain]\n",
    "#x_train, x_val, y_train, y_val, train_ind, val_ind = train_test_split(features.iloc[0:ntrain,:], ylabel[0:ntrain], indices, test_size=0.2, random_state=1)\n",
    "\n",
    "# Scale features. Fit scaler on training only.\n",
    "scaler = MinMaxScaler() #scale features between 0 and 1\n",
    "x_train = scaler.fit_transform(x_train)"
   ]
  },
  {
   "cell_type": "code",
   "execution_count": null,
   "metadata": {},
   "outputs": [],
   "source": [
    "from sklearn.model_selection import RandomizedSearch"
   ]
  },
  {
   "cell_type": "code",
   "execution_count": null,
   "metadata": {},
   "outputs": [],
   "source": [
    "reg = RandomForestRegressor(random_state = 10)"
   ]
  },
  {
   "cell_type": "code",
   "execution_count": null,
   "metadata": {},
   "outputs": [],
   "source": [
    "n_estimators_values = [50, 100, 300, 800, 1500, 2000]\n",
    "max_features_values = [\"log2\", \"sqrt\", \"auto\"]\n",
    "max_depth_values = [5, 7, 10, 15, 20, 50, 80, 150, None]\n",
    "min_samples_split_values = [2, 3, 5, 7, 10]\n",
    "min_samples_leaf_values = []\n",
    "bootstrap_values = [True, False]\n",
    "criterion_values = [\"mse\", \"mae\"]\n",
    "max_leaf_nodes_values = []\n"
   ]
  },
  {
   "cell_type": "code",
   "execution_count": null,
   "metadata": {},
   "outputs": [],
   "source": [
    "search_grid = {\n",
    "    'n_estimators' : n_estimators_values,\n",
    "    'max_features' : max_features_values,\n",
    "    'max_depth' : max_depth_values,\n",
    "    'min_samples_split' : min_samples_split_values,\n",
    "    'min_samples_leaf' : min_samples_leaf_values,\n",
    "    'bootstrap' : bootstrap_values,\n",
    "    'criterion' : criterion_values,\n",
    "    'max_leaf_nodes' : max_leaf_nodes_values\n",
    "}"
   ]
  },
  {
   "cell_type": "code",
   "execution_count": null,
   "metadata": {},
   "outputs": [],
   "source": [
    "rf_cross_validator = RandomizedSearchCV(estimator = reg, param_distributions = search_grid, n_iter = 100, cv = 5, verbose = 2, random_state = 60, n_jobs = -1)"
   ]
  },
  {
   "cell_type": "code",
   "execution_count": null,
   "metadata": {},
   "outputs": [],
   "source": [
    "rf_cross_validator.fit(x_train, y_train)"
   ]
  },
  {
   "cell_type": "markdown",
   "metadata": {},
   "source": [
    "Best hyperparameters"
   ]
  },
  {
   "cell_type": "code",
   "execution_count": null,
   "metadata": {},
   "outputs": [],
   "source": [
    "best_params = rf_cross_validator.best_params_"
   ]
  },
  {
   "cell_type": "code",
   "execution_count": null,
   "metadata": {},
   "outputs": [],
   "source": [
    "regr = RandomForestRegressor()"
   ]
  },
  {
   "cell_type": "code",
   "execution_count": null,
   "metadata": {},
   "outputs": [],
   "source": [
    "x_train, x_val, y_train, y_val, train_ind, val_ind = train_test_split(features.iloc[0:ntrain,:], ylabel[0:ntrain], indices, test_size=0.2, random_state=1)\n",
    "\n",
    "# Scale features. Fit scaler on training only.\n",
    "scaler = MinMaxScaler() #scale features between 0 and 1\n",
    "x_train = scaler.fit_transform(x_train)\n",
    "x_val = scaler.transform(x_val)\n",
    "x_test = scaler.transform(x_test)"
   ]
  },
  {
   "cell_type": "markdown",
   "metadata": {},
   "source": [
    "### Predict with Random Forest"
   ]
  },
  {
   "cell_type": "code",
   "execution_count": 12,
   "metadata": {},
   "outputs": [],
   "source": [
    "# # Create, train, and predict random forest here, where regr is the regressor and y is the predicted test results with random forest # #\n",
    "\n",
    "clf = RandomForestRegressor(n_estimators=100, max_depth=10, random_state = 10)\n",
    "clf.fit(x_train, y_train)\n",
    "\n",
    "# # Also predict on the training and validation data\n",
    "y_train_pred = clf.predict(x_train)\n",
    "y_val_pred = clf.predict(x_val)\n",
    "\n",
    "y = clf.predict(x_test)"
   ]
  },
  {
   "cell_type": "code",
   "execution_count": 13,
   "metadata": {},
   "outputs": [],
   "source": [
    "regr = clf"
   ]
  },
  {
   "cell_type": "code",
   "execution_count": 14,
   "metadata": {},
   "outputs": [],
   "source": [
    "train_pred_df = pd.Series(data = y_train_pred, index = features.iloc[train_ind].index)\n",
    "val_pred_df = pd.Series(data = y_val_pred, index = features.iloc[val_ind].index)"
   ]
  },
  {
   "cell_type": "code",
   "execution_count": 18,
   "metadata": {},
   "outputs": [],
   "source": [
    "train_pred_df = train_pred_df.append(val_pred_df)"
   ]
  },
  {
   "cell_type": "code",
   "execution_count": 19,
   "metadata": {},
   "outputs": [
    {
     "data": {
      "text/plain": [
       "3192"
      ]
     },
     "execution_count": 19,
     "metadata": {},
     "output_type": "execute_result"
    }
   ],
   "source": [
    "len(train_pred_df)"
   ]
  },
  {
   "cell_type": "code",
   "execution_count": 22,
   "metadata": {},
   "outputs": [],
   "source": [
    "train_pred_df = train_pred_df.sort_index()"
   ]
  },
  {
   "cell_type": "code",
   "execution_count": 23,
   "metadata": {},
   "outputs": [
    {
     "data": {
      "text/plain": [
       "Datetime\n",
       "2008-01-04     5.811117\n",
       "2008-01-05     6.764583\n",
       "2008-01-06     4.649288\n",
       "2008-01-07     3.699892\n",
       "2008-01-08    -0.023680\n",
       "                ...    \n",
       "2016-10-07    34.803808\n",
       "2016-10-08    29.789635\n",
       "2016-10-09    33.515209\n",
       "2016-10-10    32.794757\n",
       "2016-10-11    32.929050\n",
       "Length: 3192, dtype: float64"
      ]
     },
     "execution_count": 23,
     "metadata": {},
     "output_type": "execute_result"
    }
   ],
   "source": [
    "train_pred_df"
   ]
  },
  {
   "cell_type": "raw",
   "metadata": {},
   "source": []
  },
  {
   "cell_type": "markdown",
   "metadata": {},
   "source": [
    "### Plot random forest"
   ]
  },
  {
   "cell_type": "code",
   "execution_count": 43,
   "metadata": {},
   "outputs": [
    {
     "data": {
      "image/png": "[encoded data removed]",
      "text/plain": [
       "<Figure size 720x576 with 1 Axes>"
      ]
     },
     "metadata": {
      "needs_background": "light"
     },
     "output_type": "display_data"
    }
   ],
   "source": [
    "# plot predictions\n",
    "fig, ax = plt.subplots(1,1,figsize=(10,8))\n",
    "ax.plot(features.iloc[ntrain:].index,y_test, 'r', label=\"Actual Test Temperature\") # plot actual temperature\n",
    "ax.plot(features.iloc[ntrain:].index, y, 'b', label=\"Predicted Test Temperature\") # plot predicted temperature\n",
    "\n",
    "# # PLOT THE PREDICTED TRAINING AND VALIDATION DATA HERE # #\n",
    "ax.plot(features.iloc[0:ntrain].index, ylabel[0:ntrain], 'y', label=\"Actual Train Temperature\")\n",
    "ax.plot(features.iloc[0:ntrain].index, train_pred_df, 'k', label=\"Predicted Train Temperature\")\n",
    "\n",
    "#plt.plot(features.iloc[val_ind].index, y_val, 'm', label=\"Actual Val Temperature\")\n",
    "#plt.plot(features.iloc[val_ind].index, y_val_pred, 'c', label=\"Predicted Val Temperature\")\n",
    "\n",
    "# # INCREASE X TICK SPACING, UPDATE LEGEND # #\n",
    "ax.set_xticks(features.iloc[:].index[::182]) # set xticks to monthly\n",
    "ax.set_xticklabels(ax.get_xticks(), rotation=45)\n",
    "myFmt = mdates.DateFormatter('%b-%y')\n",
    "plt.gca().xaxis.set_major_formatter(myFmt)\n",
    "ax.set_title('Training and Test predictions and true values')\n",
    "ax.set_ylabel('Daily Temperature (degree Fahrenheit)', fontsize=12)\n",
    "ax.set_xlabel('Date(Month-Year)')\n",
    "lgd = ax.legend(bbox_to_anchor=(1, 1.2), loc='upper center')\n",
    "fig.savefig(\"problem 1.png\", bbox_extra_artists=(lgd,), bbox_inches='tight')\n",
    "plt.show()\n",
    "\n",
    "# # Plot the feature importances # #\n"
   ]
  },
  {
   "cell_type": "code",
   "execution_count": 27,
   "metadata": {},
   "outputs": [],
   "source": [
    "from sklearn.metrics import mean_squared_error"
   ]
  },
  {
   "cell_type": "code",
   "execution_count": 28,
   "metadata": {},
   "outputs": [
    {
     "data": {
      "text/plain": [
       "46.220861705502315"
      ]
     },
     "execution_count": 28,
     "metadata": {},
     "output_type": "execute_result"
    }
   ],
   "source": [
    "mean_squared_error(y_test, y)"
   ]
  },
  {
   "cell_type": "code",
   "execution_count": 29,
   "metadata": {},
   "outputs": [
    {
     "data": {
      "text/plain": [
       "9.536931429588996"
      ]
     },
     "execution_count": 29,
     "metadata": {},
     "output_type": "execute_result"
    }
   ],
   "source": [
    "mean_squared_error(ylabel[train_ind], y_train_pred)"
   ]
  },
  {
   "cell_type": "code",
   "execution_count": 1,
   "metadata": {},
   "outputs": [
    {
     "ename": "NameError",
     "evalue": "name 'mean_squared_error' is not defined",
     "output_type": "error",
     "traceback": [
      "\u001b[0;31m---------------------------------------------------------------------------\u001b[0m",
      "\u001b[0;31mNameError\u001b[0m                                 Traceback (most recent call last)",
      "\u001b[0;32m<ipython-input-1-94a589e06d91>\u001b[0m in \u001b[0;36m<module>\u001b[0;34m\u001b[0m\n\u001b[0;32m----> 1\u001b[0;31m \u001b[0mmean_squared_error\u001b[0m\u001b[0;34m(\u001b[0m\u001b[0mylabel\u001b[0m\u001b[0;34m[\u001b[0m\u001b[0mval_ind\u001b[0m\u001b[0;34m]\u001b[0m\u001b[0;34m,\u001b[0m \u001b[0my_val_pred\u001b[0m\u001b[0;34m)\u001b[0m\u001b[0;34m\u001b[0m\u001b[0;34m\u001b[0m\u001b[0m\n\u001b[0m",
      "\u001b[0;31mNameError\u001b[0m: name 'mean_squared_error' is not defined"
     ]
    }
   ],
   "source": [
    "mean_squared_error(ylabel[val_ind], y_val_pred)"
   ]
  },
  {
   "cell_type": "code",
   "execution_count": 44,
   "metadata": {},
   "outputs": [
    {
     "data": {
      "image/png": "[encoded data removed]",
      "text/plain": [
       "<Figure size 432x288 with 1 Axes>"
      ]
     },
     "metadata": {
      "needs_background": "light"
     },
     "output_type": "display_data"
    }
   ],
   "source": [
    "# # Plot the feature importances # #\n",
    "nfeatures = 10\n",
    "fi = regr.feature_importances_ # get feature importances\n",
    "fi_sort = np.argsort(fi)[::-1] # sort importances most to least\n",
    "plt.bar(range(nfeatures), fi[fi_sort[0:nfeatures]], width=1, \\\n",
    "        tick_label=features.columns.values[fi_sort[0:nfeatures]]) # plot features importances\n",
    "plt.ylabel('Feature Importance (avg across trees)', fontsize=12)\n",
    "plt.xticks(rotation = 45)\n",
    "plt.show()"
   ]
  },
  {
   "cell_type": "code",
   "execution_count": null,
   "metadata": {
    "scrolled": true
   },
   "outputs": [],
   "source": [
    "# plot predictions\n",
    "plt.figure(figsize=(15,7))\n",
    "plt.subplot(1,2,1)\n",
    "plt.plot(features.iloc[ntrain:].index,y_test, 'r', label=\"Actual Test Temperature\") # plot actual temperature\n",
    "plt.plot(features.iloc[ntrain:].index, y, 'b', label=\"Predicted Test Temperature\") # plot predicted temperature\n",
    "\n",
    "# # PLOT THE PREDICTED TRAINING AND VALIDATION DATA HERE # #\n",
    "#plt.subplot(2,2,2)\n",
    "plt.plot(features.iloc[:ntrain].index, ylabel[:ntrain], 'c', label=\"Actual Train Temperature\")\n",
    "plt.plot(features.iloc[:ntrain].index, y_train_pred, 'm', label=\"Predicted Train Temperature\")\n",
    "\n",
    "\n",
    "# # INCREASE X TICK SPACING, UPDATE LEGEND # #\n",
    "plt.xticks(features.iloc[:].index[::182], rotation = 45) # set xticks to monthly\n",
    "myFmt = mdates.DateFormatter('%b-%y')\n",
    "plt.gca().xaxis.set_major_formatter(myFmt)\n",
    "plt.ylabel('Daily Temperature (degree Fahrenheit)', fontsize=12)\n",
    "plt.legend(['Test Label','Test Prediction','Train Label','Train Prediction'], fontsize=12, loc=1)\n",
    "#plt.show()\n",
    "\n",
    "# # Plot the feature importances # #\n",
    "nfeatures = 10\n",
    "fi = regr.feature_importances_ # get feature importances\n",
    "fi_sort = np.argsort(fi)[::-1] # sort importances most to least\n",
    "plt.subplot(2,2,4)\n",
    "plt.bar(range(nfeatures), fi[fi_sort[0:nfeatures]], width=1, \\\n",
    "        tick_label=features.columns.values[fi_sort[0:nfeatures]]) # plot features importances\n",
    "plt.ylabel('Feature Importance (avg across trees)', fontsize=12)\n",
    "plt.xticks(rotation = 45)\n",
    "plt.show()"
   ]
  },
  {
   "cell_type": "code",
   "execution_count": 47,
   "metadata": {},
   "outputs": [
    {
     "data": {
      "image/png": "[encoded data removed]",
      "text/plain": [
       "<Figure size 1080x504 with 2 Axes>"
      ]
     },
     "metadata": {
      "needs_background": "light"
     },
     "output_type": "display_data"
    }
   ],
   "source": [
    "# plot predictions\n",
    "plt.figure(figsize=(15,7))\n",
    "plt.subplot(2,2,1)\n",
    "plt.plot(features.iloc[ntrain:].index,y_test, 'r', label=\"Actual Test Temperature\") # plot actual temperature\n",
    "plt.plot(features.iloc[ntrain:].index, y, 'b', label=\"Predicted Test Temperature\") # plot predicted temperature\n",
    "\n",
    "# # PLOT THE PREDICTED TRAINING AND VALIDATION DATA HERE # #\n",
    "plt.subplot(2,2,2)\n",
    "plt.plot(features.iloc[:ntrain].index,ylabel[0:ntrain])\n",
    "plt.plot(x_train.index, y_train_pred)\n",
    "\n",
    "plt.subplot(2,2,3)\n",
    "plt.plot(x_val.index, y_val_pred)\n",
    "\n",
    "\n",
    "# # INCREASE X TICK SPACING, UPDATE LEGEND # #\n",
    "plt.xticks(features.iloc[:].index[::182], rotation = 45) # set xticks to monthly\n",
    "myFmt = mdates.DateFormatter('%b-%y')\n",
    "plt.gca().xaxis.set_major_formatter(myFmt)\n",
    "plt.ylabel('Daily Temperature (degree Fahrenheit)', fontsize=12)\n",
    "plt.legend(['Test Label','Test Prediction','Train Label','Train Prediction'], fontsize=12, loc=1)\n",
    "#plt.show()\n",
    "\n",
    "# # Plot the feature importances # #\n",
    "nfeatures = 10\n",
    "fi = regr.feature_importances_ # get feature importances\n",
    "fi_sort = np.argsort(fi)[::-1] # sort importances most to least\n",
    "plt.subplot(1,2,2)\n",
    "plt.bar(range(nfeatures), fi[fi_sort[0:nfeatures]], width=1, \\\n",
    "        tick_label=features.columns.values[fi_sort[0:nfeatures]]) # plot features importances\n",
    "plt.ylabel('Feature Importance (avg across trees)', fontsize=12)\n",
    "plt.xticks(rotation = 45)\n",
    "plt.show()"
   ]
  },
  {
   "cell_type": "markdown",
   "metadata": {},
   "source": [
    "### Feature importance is the weighted impurity of a branch adjusted by its children nodes and normalized by the impurities of all branches. The Random Forest feature importances are averaged over all regression trees."
   ]
  },
  {
   "cell_type": "code",
   "execution_count": 16,
   "metadata": {},
   "outputs": [],
   "source": []
  },
  {
   "cell_type": "code",
   "execution_count": 18,
   "metadata": {},
   "outputs": [
    {
     "data": {
      "text/plain": [
       "43.60456337443424"
      ]
     },
     "execution_count": 18,
     "metadata": {},
     "output_type": "execute_result"
    }
   ],
   "source": []
  },
  {
   "cell_type": "code",
   "execution_count": null,
   "metadata": {},
   "outputs": [],
   "source": []
  }
 ],
 "metadata": {
  "kernelspec": {
   "display_name": "Python 3",
   "language": "python",
   "name": "python3"
  },
  "language_info": {
   "codemirror_mode": {
    "name": "ipython",
    "version": 3
   },
   "file_extension": ".py",
   "mimetype": "text/x-python",
   "name": "python",
   "nbconvert_exporter": "python",
   "pygments_lexer": "ipython3",
   "version": "3.7.3"
  }
 },
 "nbformat": 4,
 "nbformat_minor": 2
}
