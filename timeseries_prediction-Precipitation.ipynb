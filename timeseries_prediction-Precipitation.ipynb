{
 "cells": [
  {
   "cell_type": "markdown",
   "metadata": {},
   "source": [
    "# Predict rain(precipitation) based on other weather variables"
   ]
  },
  {
   "cell_type": "markdown",
   "metadata": {},
   "source": [
    "This notebook will use time lags to train a machine learning model for predicting rain (precipitation). \n",
    "\n",
    "First, we select a random station. The data is kept at daily resolution. Then, we generate a lagged feature matrix."
   ]
  },
  {
   "cell_type": "code",
   "execution_count": 1,
   "metadata": {},
   "outputs": [],
   "source": [
    "import pandas as pd\n",
    "import numpy as np\n",
    "from numpy.random import randint\n",
    "from sklearn.preprocessing import MinMaxScaler\n",
    "from sklearn.model_selection import train_test_split\n",
    "from sklearn.ensemble import RandomForestRegressor\n",
    "import matplotlib.pyplot as plt\n",
    "import matplotlib.dates as mdates\n",
    "import time"
   ]
  },
  {
   "cell_type": "code",
   "execution_count": 2,
   "metadata": {},
   "outputs": [],
   "source": [
    "from pandas.plotting import register_matplotlib_converters\n",
    "register_matplotlib_converters()"
   ]
  },
  {
   "cell_type": "code",
   "execution_count": 3,
   "metadata": {},
   "outputs": [
    {
     "name": "stdout",
     "output_type": "stream",
     "text": [
      "23.34427833557129\n",
      "CPU times: user 13.9 s, sys: 9.5 s, total: 23.4 s\n",
      "Wall time: 23.3 s\n"
     ]
    }
   ],
   "source": [
    "%%time\n",
    "data_dir = '/datasets/NOAA_SST/'\n",
    "#load(data_dir + “noaa_gsod/…/file”\n",
    "t0 = time.time()\n",
    "data = pd.read_pickle(data_dir+'noaa_gsod/Combined_noaa_gsod') # load weather data\n",
    "stations = pd.read_pickle(data_dir+'noaa_gsod.stations') # load station data\n",
    "\n",
    "# # USE ONLY 2008-2018 # #\n",
    "data = data.loc[data.index >= pd.Timestamp(2008, 1, 1)]\n",
    "data = data.drop(columns=['yr','year','da','mo']) # don't need these anymore\n",
    "print(time.time()-t0)"
   ]
  },
  {
   "cell_type": "code",
   "execution_count": 4,
   "metadata": {},
   "outputs": [
    {
     "data": {
      "text/html": [
       "<div>\n",
       "<style scoped>\n",
       "    .dataframe tbody tr th:only-of-type {\n",
       "        vertical-align: middle;\n",
       "    }\n",
       "\n",
       "    .dataframe tbody tr th {\n",
       "        vertical-align: top;\n",
       "    }\n",
       "\n",
       "    .dataframe thead th {\n",
       "        text-align: right;\n",
       "    }\n",
       "</style>\n",
       "<table border=\"1\" class=\"dataframe\">\n",
       "  <thead>\n",
       "    <tr style=\"text-align: right;\">\n",
       "      <th></th>\n",
       "      <th>usaf</th>\n",
       "      <th>wban</th>\n",
       "      <th>name</th>\n",
       "      <th>country</th>\n",
       "      <th>state</th>\n",
       "      <th>call</th>\n",
       "      <th>lat</th>\n",
       "      <th>lon</th>\n",
       "      <th>elev</th>\n",
       "      <th>begin</th>\n",
       "      <th>end</th>\n",
       "    </tr>\n",
       "  </thead>\n",
       "  <tbody>\n",
       "    <tr>\n",
       "      <th>24140</th>\n",
       "      <td>711320</td>\n",
       "      <td>99999</td>\n",
       "      <td>STONY RAPIDS ARPT</td>\n",
       "      <td>CA</td>\n",
       "      <td>None</td>\n",
       "      <td>CYSF</td>\n",
       "      <td>59.25</td>\n",
       "      <td>-105.833</td>\n",
       "      <td>+0250.0</td>\n",
       "      <td>19860725</td>\n",
       "      <td>20190401</td>\n",
       "    </tr>\n",
       "  </tbody>\n",
       "</table>\n",
       "</div>"
      ],
      "text/plain": [
       "         usaf   wban               name country state  call    lat      lon  \\\n",
       "24140  711320  99999  STONY RAPIDS ARPT      CA  None  CYSF  59.25 -105.833   \n",
       "\n",
       "          elev     begin       end  \n",
       "24140  +0250.0  19860725  20190401  "
      ]
     },
     "execution_count": 4,
     "metadata": {},
     "output_type": "execute_result"
    }
   ],
   "source": [
    "# # SELECT RANDOM STATION # #\n",
    "np.random.seed(30)\n",
    "rs = np.unique(data['stn'].values) # find unique stations with data\n",
    "rand_stat = rs[randint(len(rs))] # pick a random station\n",
    "\n",
    "# # ideally we should check < len(np.unique(data.index)), but many are shorter\n",
    "while (len(data.loc[data['stn'] == rand_stat]) < 3650): # If not enough data\n",
    "    if len(stations.loc[stations['usaf'] == rand_stat]): # If station info available\n",
    "        if (stations.loc[stations['usaf'] == rand_stat].iloc[0]['wban'] != '99999'): # If station number not unique\n",
    "            rand_stat = rs[randint(len(rs))] # get a new station\n",
    "    else:\n",
    "        rand_stat = rs[randint(len(rs))] # get a new station\n",
    "\n",
    "select_station = stations.loc[stations['usaf'] == rand_stat] # get location, etc, for random station\n",
    "\n",
    "features = data.loc[data['stn'] == rand_stat] # pick weather at random station\n",
    "features = features.drop(columns='stn')\n",
    "features = features.sort_index()\n",
    "select_station.head() # see where it is"
   ]
  },
  {
   "cell_type": "code",
   "execution_count": 5,
   "metadata": {},
   "outputs": [
    {
     "data": {
      "text/plain": [
       "(3994, 7)"
      ]
     },
     "execution_count": 5,
     "metadata": {},
     "output_type": "execute_result"
    }
   ],
   "source": [
    "features.shape"
   ]
  },
  {
   "cell_type": "markdown",
   "metadata": {},
   "source": [
    "### Time-shift the data"
   ]
  },
  {
   "cell_type": "code",
   "execution_count": 6,
   "metadata": {},
   "outputs": [
    {
     "name": "stdout",
     "output_type": "stream",
     "text": [
      "3991 samples, 28 features.\n"
     ]
    },
    {
     "data": {
      "text/html": [
       "<div>\n",
       "<style scoped>\n",
       "    .dataframe tbody tr th:only-of-type {\n",
       "        vertical-align: middle;\n",
       "    }\n",
       "\n",
       "    .dataframe tbody tr th {\n",
       "        vertical-align: top;\n",
       "    }\n",
       "\n",
       "    .dataframe thead th {\n",
       "        text-align: right;\n",
       "    }\n",
       "</style>\n",
       "<table border=\"1\" class=\"dataframe\">\n",
       "  <thead>\n",
       "    <tr style=\"text-align: right;\">\n",
       "      <th></th>\n",
       "      <th>temp</th>\n",
       "      <th>slp</th>\n",
       "      <th>wdsp</th>\n",
       "      <th>mxpsd</th>\n",
       "      <th>max</th>\n",
       "      <th>min</th>\n",
       "      <th>prcp</th>\n",
       "      <th>temp_lag1</th>\n",
       "      <th>temp_lag2</th>\n",
       "      <th>temp_lag3</th>\n",
       "      <th>...</th>\n",
       "      <th>mxpsd_lag3</th>\n",
       "      <th>max_lag1</th>\n",
       "      <th>max_lag2</th>\n",
       "      <th>max_lag3</th>\n",
       "      <th>min_lag1</th>\n",
       "      <th>min_lag2</th>\n",
       "      <th>min_lag3</th>\n",
       "      <th>prcp_lag1</th>\n",
       "      <th>prcp_lag2</th>\n",
       "      <th>prcp_lag3</th>\n",
       "    </tr>\n",
       "    <tr>\n",
       "      <th>Datetime</th>\n",
       "      <th></th>\n",
       "      <th></th>\n",
       "      <th></th>\n",
       "      <th></th>\n",
       "      <th></th>\n",
       "      <th></th>\n",
       "      <th></th>\n",
       "      <th></th>\n",
       "      <th></th>\n",
       "      <th></th>\n",
       "      <th></th>\n",
       "      <th></th>\n",
       "      <th></th>\n",
       "      <th></th>\n",
       "      <th></th>\n",
       "      <th></th>\n",
       "      <th></th>\n",
       "      <th></th>\n",
       "      <th></th>\n",
       "      <th></th>\n",
       "      <th></th>\n",
       "    </tr>\n",
       "  </thead>\n",
       "  <tbody>\n",
       "    <tr>\n",
       "      <th>2008-01-04</th>\n",
       "      <td>7.9</td>\n",
       "      <td>998.0</td>\n",
       "      <td>3.4</td>\n",
       "      <td>9.9</td>\n",
       "      <td>19.4</td>\n",
       "      <td>-4.0</td>\n",
       "      <td>0.00</td>\n",
       "      <td>9.2</td>\n",
       "      <td>-6.9</td>\n",
       "      <td>-8.3</td>\n",
       "      <td>...</td>\n",
       "      <td>5.1</td>\n",
       "      <td>14.0</td>\n",
       "      <td>8.6</td>\n",
       "      <td>-2.2</td>\n",
       "      <td>-0.4</td>\n",
       "      <td>-20.2</td>\n",
       "      <td>-16.6</td>\n",
       "      <td>0.04</td>\n",
       "      <td>0.00</td>\n",
       "      <td>0.01</td>\n",
       "    </tr>\n",
       "    <tr>\n",
       "      <th>2008-01-05</th>\n",
       "      <td>6.8</td>\n",
       "      <td>995.4</td>\n",
       "      <td>9.7</td>\n",
       "      <td>12.0</td>\n",
       "      <td>18.9</td>\n",
       "      <td>-4.9</td>\n",
       "      <td>0.13</td>\n",
       "      <td>7.9</td>\n",
       "      <td>9.2</td>\n",
       "      <td>-6.9</td>\n",
       "      <td>...</td>\n",
       "      <td>9.9</td>\n",
       "      <td>19.4</td>\n",
       "      <td>14.0</td>\n",
       "      <td>8.6</td>\n",
       "      <td>-4.0</td>\n",
       "      <td>-0.4</td>\n",
       "      <td>-20.2</td>\n",
       "      <td>0.00</td>\n",
       "      <td>0.04</td>\n",
       "      <td>0.00</td>\n",
       "    </tr>\n",
       "    <tr>\n",
       "      <th>2008-01-06</th>\n",
       "      <td>4.0</td>\n",
       "      <td>993.5</td>\n",
       "      <td>8.5</td>\n",
       "      <td>13.0</td>\n",
       "      <td>9.7</td>\n",
       "      <td>2.7</td>\n",
       "      <td>0.09</td>\n",
       "      <td>6.8</td>\n",
       "      <td>7.9</td>\n",
       "      <td>9.2</td>\n",
       "      <td>...</td>\n",
       "      <td>9.9</td>\n",
       "      <td>18.9</td>\n",
       "      <td>19.4</td>\n",
       "      <td>14.0</td>\n",
       "      <td>-4.9</td>\n",
       "      <td>-4.0</td>\n",
       "      <td>-0.4</td>\n",
       "      <td>0.13</td>\n",
       "      <td>0.00</td>\n",
       "      <td>0.04</td>\n",
       "    </tr>\n",
       "    <tr>\n",
       "      <th>2008-01-07</th>\n",
       "      <td>4.7</td>\n",
       "      <td>1001.9</td>\n",
       "      <td>0.6</td>\n",
       "      <td>2.9</td>\n",
       "      <td>5.5</td>\n",
       "      <td>3.0</td>\n",
       "      <td>0.05</td>\n",
       "      <td>4.0</td>\n",
       "      <td>6.8</td>\n",
       "      <td>7.9</td>\n",
       "      <td>...</td>\n",
       "      <td>9.9</td>\n",
       "      <td>9.7</td>\n",
       "      <td>18.9</td>\n",
       "      <td>19.4</td>\n",
       "      <td>2.7</td>\n",
       "      <td>-4.9</td>\n",
       "      <td>-4.0</td>\n",
       "      <td>0.09</td>\n",
       "      <td>0.13</td>\n",
       "      <td>0.00</td>\n",
       "    </tr>\n",
       "    <tr>\n",
       "      <th>2008-01-08</th>\n",
       "      <td>-4.2</td>\n",
       "      <td>1011.6</td>\n",
       "      <td>0.3</td>\n",
       "      <td>2.9</td>\n",
       "      <td>5.5</td>\n",
       "      <td>-8.3</td>\n",
       "      <td>0.06</td>\n",
       "      <td>4.7</td>\n",
       "      <td>4.0</td>\n",
       "      <td>6.8</td>\n",
       "      <td>...</td>\n",
       "      <td>12.0</td>\n",
       "      <td>5.5</td>\n",
       "      <td>9.7</td>\n",
       "      <td>18.9</td>\n",
       "      <td>3.0</td>\n",
       "      <td>2.7</td>\n",
       "      <td>-4.9</td>\n",
       "      <td>0.05</td>\n",
       "      <td>0.09</td>\n",
       "      <td>0.13</td>\n",
       "    </tr>\n",
       "  </tbody>\n",
       "</table>\n",
       "<p>5 rows × 28 columns</p>\n",
       "</div>"
      ],
      "text/plain": [
       "            temp     slp  wdsp  mxpsd   max  min  prcp  temp_lag1  temp_lag2  \\\n",
       "Datetime                                                                       \n",
       "2008-01-04   7.9   998.0   3.4    9.9  19.4 -4.0  0.00        9.2       -6.9   \n",
       "2008-01-05   6.8   995.4   9.7   12.0  18.9 -4.9  0.13        7.9        9.2   \n",
       "2008-01-06   4.0   993.5   8.5   13.0   9.7  2.7  0.09        6.8        7.9   \n",
       "2008-01-07   4.7  1001.9   0.6    2.9   5.5  3.0  0.05        4.0        6.8   \n",
       "2008-01-08  -4.2  1011.6   0.3    2.9   5.5 -8.3  0.06        4.7        4.0   \n",
       "\n",
       "            temp_lag3  ...  mxpsd_lag3  max_lag1  max_lag2  max_lag3  \\\n",
       "Datetime               ...                                             \n",
       "2008-01-04       -8.3  ...         5.1      14.0       8.6      -2.2   \n",
       "2008-01-05       -6.9  ...         9.9      19.4      14.0       8.6   \n",
       "2008-01-06        9.2  ...         9.9      18.9      19.4      14.0   \n",
       "2008-01-07        7.9  ...         9.9       9.7      18.9      19.4   \n",
       "2008-01-08        6.8  ...        12.0       5.5       9.7      18.9   \n",
       "\n",
       "            min_lag1  min_lag2  min_lag3  prcp_lag1  prcp_lag2  prcp_lag3  \n",
       "Datetime                                                                   \n",
       "2008-01-04      -0.4     -20.2     -16.6       0.04       0.00       0.01  \n",
       "2008-01-05      -4.0      -0.4     -20.2       0.00       0.04       0.00  \n",
       "2008-01-06      -4.9      -4.0      -0.4       0.13       0.00       0.04  \n",
       "2008-01-07       2.7      -4.9      -4.0       0.09       0.13       0.00  \n",
       "2008-01-08       3.0       2.7      -4.9       0.05       0.09       0.13  \n",
       "\n",
       "[5 rows x 28 columns]"
      ]
     },
     "execution_count": 6,
     "metadata": {},
     "output_type": "execute_result"
    }
   ],
   "source": [
    "columns = features.columns # weather variables\n",
    "for co in columns:\n",
    "    # one day lag\n",
    "    features[co + '_lag1'] = features[co].shift(periods=1)\n",
    "    \n",
    "    # two days lag\n",
    "    features[co + '_lag2'] = features[co].shift(periods=2)\n",
    "    \n",
    "    # three days lag\n",
    "    features[co + '_lag3'] = features[co].shift(periods=3)\n",
    "features = features.iloc[3:]\n",
    "print(str(len(features)) + ' samples, ' + str(len(features.columns)) + ' features.')\n",
    "features.head()"
   ]
  },
  {
   "cell_type": "markdown",
   "metadata": {},
   "source": [
    "### Create train/val/test"
   ]
  },
  {
   "cell_type": "code",
   "execution_count": 7,
   "metadata": {},
   "outputs": [],
   "source": [
    "ylabel = features['prcp'] # use today's precipitation as the label\n",
    "features = features.drop(columns='prcp') # don't put it in training data!!\n",
    "\n",
    "# Use 20% test split (80% training + validation)\n",
    "ntrain = int(len(features)*0.8)\n",
    "x_test = features.iloc[ntrain:,:]\n",
    "y_test = ylabel[ntrain:]\n",
    "indices = np.arange(ntrain)\n",
    "\n",
    "\n",
    "# Split remaining 80% into training-validation sets by 60%/20% (of original data)\n",
    "x_train, x_val, y_train, y_val, idx1, idx2 = train_test_split(features.iloc[0:ntrain,:], ylabel[0:ntrain], \\\n",
    "                                                   indices, test_size=0.2, random_state=1)\n",
    "\n",
    "# # Scale features. Fit scaler on training only.\n",
    "scaler = MinMaxScaler() #scale features between 0 and 1\n",
    "x_train = scaler.fit_transform(x_train)\n",
    "x_val = scaler.transform(x_val)\n",
    "x_test = scaler.transform(x_test)"
   ]
  },
  {
   "cell_type": "markdown",
   "metadata": {},
   "source": [
    "### Predict with Random Forest"
   ]
  },
  {
   "cell_type": "code",
   "execution_count": 8,
   "metadata": {},
   "outputs": [
    {
     "data": {
      "text/plain": [
       "3140"
      ]
     },
     "execution_count": 8,
     "metadata": {},
     "output_type": "execute_result"
    }
   ],
   "source": [
    "int(len(features)*.8)"
   ]
  },
  {
   "cell_type": "code",
   "execution_count": 8,
   "metadata": {},
   "outputs": [],
   "source": [
    "# # Create, train, and predict random forest here # #\n",
    "\n",
    "clf = RandomForestRegressor(n_estimators=100, random_state = 10)\n",
    "clf.fit(x_train, y_train)\n",
    "\n",
    "# # Also predict on the training and validation data\n",
    "y_train_pred = clf.predict(x_train)\n",
    "y_val_pred = clf.predict(x_val)\n",
    "\n",
    "y_test_pred = clf.predict(x_test)\n",
    "\n"
   ]
  },
  {
   "cell_type": "code",
   "execution_count": 9,
   "metadata": {},
   "outputs": [],
   "source": [
    "from sklearn.metrics import mean_squared_error"
   ]
  },
  {
   "cell_type": "code",
   "execution_count": 10,
   "metadata": {},
   "outputs": [
    {
     "name": "stdout",
     "output_type": "stream",
     "text": [
      "test_accuracy: 0.01178678555694618\n",
      "train_accuracy: 0.0013904420485703092\n",
      "val_accuracy: 0.008949142300469485\n"
     ]
    }
   ],
   "source": [
    "print(\"test_accuracy: {0}\".format(mean_squared_error(y_test, y_test_pred)))\n",
    "print(\"train_accuracy: {0}\".format(mean_squared_error(y_train, y_train_pred)))\n",
    "print(\"val_accuracy: {0}\".format(mean_squared_error(y_val, y_val_pred)))"
   ]
  },
  {
   "cell_type": "code",
   "execution_count": null,
   "metadata": {},
   "outputs": [],
   "source": [
    "train_pred_df = pd.Series(data = y_train_pred, index = features.iloc[idx1].index)\n",
    "val_pred_df = pd.Series(data = y_val_pred, index = features.iloc[idx2].index)"
   ]
  },
  {
   "cell_type": "markdown",
   "metadata": {},
   "source": [
    "### Plot random forest"
   ]
  },
  {
   "cell_type": "code",
   "execution_count": null,
   "metadata": {},
   "outputs": [],
   "source": [
    "regr = clf"
   ]
  },
  {
   "cell_type": "code",
   "execution_count": null,
   "metadata": {},
   "outputs": [],
   "source": [
    "# plot predictions\n",
    "fig, ax = plt.subplots(1,1,figsize=(10,8))\n",
    "ax.plot(features.iloc[ntrain:].index,y_test, 'r', label=\"Actual Test Temperature\") # plot actual temperature\n",
    "ax.plot(features.iloc[ntrain:].index, y, 'b', label=\"Predicted Test Temperature\") # plot predicted temperature\n",
    "\n",
    "# # PLOT THE PREDICTED TRAINING AND VALIDATION DATA HERE # #\n",
    "ax.plot(features.iloc[0:ntrain].index, ylabel[0:ntrain], 'y', label=\"Actual Train Temperature\")\n",
    "ax.plot(features.iloc[0:ntrain].index, train_pred_df, 'k', label=\"Predicted Train Temperature\")\n",
    "\n",
    "#plt.plot(features.iloc[val_ind].index, y_val, 'm', label=\"Actual Val Temperature\")\n",
    "#plt.plot(features.iloc[val_ind].index, y_val_pred, 'c', label=\"Predicted Val Temperature\")\n",
    "\n",
    "# # INCREASE X TICK SPACING, UPDATE LEGEND # #\n",
    "ax.set_xticks(features.iloc[:].index[::182]) # set xticks to monthly\n",
    "ax.set_xticklabels(ax.get_xticks(), rotation=45)\n",
    "myFmt = mdates.DateFormatter('%b-%y')\n",
    "plt.gca().xaxis.set_major_formatter(myFmt)\n",
    "ax.set_title('Training and Test predictions and true values')\n",
    "ax.set_ylabel('Daily Temperature (degree Fahrenheit)', fontsize=12)\n",
    "ax.set_xlabel('Date(Month-Year)')\n",
    "lgd = ax.legend(bbox_to_anchor=(1, 1.2), loc='upper center')\n",
    "fig.savefig(\"problem 1.png\", bbox_extra_artists=(lgd,), bbox_inches='tight')\n",
    "plt.show()\n",
    "\n",
    "# # Plot the feature importances # #\n"
   ]
  },
  {
   "cell_type": "code",
   "execution_count": null,
   "metadata": {},
   "outputs": [],
   "source": [
    "nfeatures = 10\n",
    "fi = regr.feature_importances_ # get feature importances, regr is the regressor\n",
    "fi_sort = np.argsort(fi)[::-1] # sort importances most to least\n",
    "plt.subplot(1,2,2)\n",
    "plt.bar(range(nfeatures), fi[fi_sort[0:nfeatures]], width=1, \\\n",
    "        tick_label=features.columns.values[fi_sort[0:nfeatures]]) # plot features importances\n",
    "plt.ylabel('Feature Importance (avg across trees)', fontsize=12)\n",
    "plt.xticks(rotation = 45)\n",
    "plt.show()"
   ]
  },
  {
   "cell_type": "code",
   "execution_count": null,
   "metadata": {},
   "outputs": [],
   "source": [
    "# plot predictions\n",
    "plt.figure(figsize=(15,7))\n",
    "plt.subplot(1,2,1)\n",
    "plt.plot(features.iloc[ntrain:].index, y_test) # plot actual precipitation\n",
    "plt.plot(features.iloc[ntrain:].index, y) # plot predicted precipitation, y is the prediction results on testing data\n",
    "\n",
    "\n",
    "# # PLOT TRAINING DATA HERE # #\n",
    "\n",
    "\n",
    "\n",
    "\n",
    "\n",
    "# # INCREASE X TICK SPACING, UPDATE LEGEND # #\n",
    "plt.xticks(features.index[::182], rotation = 45) # X-Ticks are spaced once every 30 days. \n",
    "myFmt = mdates.DateFormatter('%b-%y') # This shows day-month-year. Switch to month-year or annually\n",
    "\n",
    "plt.gca().xaxis.set_major_formatter(myFmt)\n",
    "plt.ylabel('Daily Precipitation (inches)', fontsize=12)\n",
    "plt.legend(('Test Label','Test Prediction','Train Label','Train Prediction'), fontsize=12, loc=1)\n",
    "#plt.show()\n",
    "\n",
    "# # Plot the feature importances # #\n",
    "nfeatures = 10\n",
    "fi = regr.feature_importances_ # get feature importances, regr is the regressor\n",
    "fi_sort = np.argsort(fi)[::-1] # sort importances most to least\n",
    "plt.subplot(1,2,2)\n",
    "plt.bar(range(nfeatures), fi[fi_sort[0:nfeatures]], width=1, \\\n",
    "        tick_label=features.columns.values[fi_sort[0:nfeatures]]) # plot features importances\n",
    "plt.ylabel('Feature Importance (avg across trees)', fontsize=12)\n",
    "plt.xticks(rotation = 45)\n",
    "plt.show()"
   ]
  },
  {
   "cell_type": "markdown",
   "metadata": {},
   "source": [
    "### Feature importance is the weighted impurity of a branch adjusted by its children nodes and normalized by the impurities of all branches. The Random Forest feature importances are averaged over all regression trees."
   ]
  },
  {
   "cell_type": "code",
   "execution_count": null,
   "metadata": {},
   "outputs": [],
   "source": []
  }
 ],
 "metadata": {
  "kernelspec": {
   "display_name": "Python 3",
   "language": "python",
   "name": "python3"
  },
  "language_info": {
   "codemirror_mode": {
    "name": "ipython",
    "version": 3
   },
   "file_extension": ".py",
   "mimetype": "text/x-python",
   "name": "python",
   "nbconvert_exporter": "python",
   "pygments_lexer": "ipython3",
   "version": "3.7.3"
  }
 },
 "nbformat": 4,
 "nbformat_minor": 2
}
